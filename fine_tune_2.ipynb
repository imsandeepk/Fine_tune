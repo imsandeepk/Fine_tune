{
  "nbformat": 4,
  "nbformat_minor": 0,
  "metadata": {
    "colab": {
      "provenance": [],
      "gpuType": "T4",
      "include_colab_link": true
    },
    "kernelspec": {
      "name": "python3",
      "display_name": "Python 3"
    },
    "language_info": {
      "name": "python"
    }
  },
  "cells": [
    {
      "cell_type": "markdown",
      "metadata": {
        "id": "view-in-github",
        "colab_type": "text"
      },
      "source": [
        "<a href=\"https://colab.research.google.com/github/imsandeepk/Fine_tune/blob/main/fine_tune_2.ipynb\" target=\"_parent\"><img src=\"https://colab.research.google.com/assets/colab-badge.svg\" alt=\"Open In Colab\"/></a>"
      ]
    },
    {
      "cell_type": "code",
      "execution_count": null,
      "metadata": {
        "colab": {
          "base_uri": "https://localhost:8080/"
        },
        "id": "_yDfaGP-cNLO",
        "outputId": "ecb0f430-abfe-4211-859b-e8011d80ea15"
      },
      "outputs": [
        {
          "output_type": "stream",
          "name": "stdout",
          "text": [
            "--2023-06-09 19:50:17--  https://download.niggeshwar.workers.dev/4:/sandeep/e_OH_1.xlsx\n",
            "Resolving download.niggeshwar.workers.dev (download.niggeshwar.workers.dev)... 172.67.164.115, 104.21.41.113, 2606:4700:3033::6815:2971, ...\n",
            "Connecting to download.niggeshwar.workers.dev (download.niggeshwar.workers.dev)|172.67.164.115|:443... connected.\n",
            "HTTP request sent, awaiting response... 200 OK\n",
            "Length: 259655932 (248M) [application/vnd.openxmlformats-officedocument.spreadsheetml.sheet]\n",
            "Saving to: ‘e_OH_1.xlsx’\n",
            "\n",
            "e_OH_1.xlsx         100%[===================>] 247.63M   112MB/s    in 2.2s    \n",
            "\n",
            "2023-06-09 19:50:21 (112 MB/s) - ‘e_OH_1.xlsx’ saved [259655932/259655932]\n",
            "\n"
          ]
        }
      ],
      "source": [
        "!wget https://download.niggeshwar.workers.dev/4:/sandeep/e_OH_1.xlsx"
      ]
    },
    {
      "cell_type": "code",
      "source": [
        "import pandas as pd\n",
        "# df = pd.read_excel('/content/e_OH_1.xlsx', nrows=10000, header=None)\n",
        "df = pd.read_csv('/content/final_e_OH_1.csv')"
      ],
      "metadata": {
        "id": "sHB80N84rGfN"
      },
      "execution_count": null,
      "outputs": []
    },
    {
      "cell_type": "code",
      "source": [
        "intervals = range(-75, -6, 5)\n",
        "\n",
        "def calculate_interval_frequency(row):\n",
        "    frequency = []\n",
        "    for interval in intervals:\n",
        "        count = sum((interval <= int(value) < interval + 5) for value in row[1:])\n",
        "        frequency.append(count)\n",
        "    return frequency\n",
        "\n",
        "interval_frequency = df.apply(calculate_interval_frequency, axis=1)\n",
        "\n",
        "interval_columns = [f'({interval}, {interval + 5})' for interval in intervals]\n",
        "df[interval_columns] = pd.DataFrame(interval_frequency.tolist())\n",
        "\n",
        "df = df.drop(df.columns[1:6401], axis=1)\n",
        "\n",
        "df = df.rename(columns={df.columns[0]: 'compound'})"
      ],
      "metadata": {
        "id": "rjor-gdoYrgq"
      },
      "execution_count": null,
      "outputs": []
    },
    {
      "cell_type": "code",
      "source": [
        "df_copy = df"
      ],
      "metadata": {
        "id": "5Vl475jthNPr"
      },
      "execution_count": null,
      "outputs": []
    },
    {
      "cell_type": "code",
      "source": [
        "df['completion'] = df.apply(lambda row: ';'.join(f\"{row[col]}\" for col in df.columns[1:]), axis=1)\n",
        "s = ['compound', 'completion']\n",
        "final = df[s]\n",
        "final = final.rename(columns={'compound': \"prompt\"})"
      ],
      "metadata": {
        "id": "cy4LE3ZzYGnq"
      },
      "execution_count": null,
      "outputs": []
    },
    {
      "cell_type": "code",
      "source": [
        "final"
      ],
      "metadata": {
        "colab": {
          "base_uri": "https://localhost:8080/",
          "height": 424
        },
        "id": "VP_hFLGzczdB",
        "outputId": "47b364d8-95cc-48d3-ba94-98f4d6a1bc77"
      },
      "execution_count": null,
      "outputs": [
        {
          "output_type": "execute_result",
          "data": {
            "text/plain": [
              "                  prompt                                         completion\n",
              "0       Fe8Mn28Co24Cu1V3              0;20;1586;3796;978;20;0;0;0;0;0;0;0;0\n",
              "1      V16Fe17Co24Mn6Cu1             0;1;369;2390;2599;986;55;0;0;0;0;0;0;0\n",
              "2       V8Cu21Fe3Co23Mn9   0;0;8;364;1299;983;636;433;358;492;754;829;239;5\n",
              "3       V9Co29Fe15Mn6Cu5         0;0;13;456;1807;2623;1284;207;10;0;0;0;0;0\n",
              "4      Fe4Cu26Co22Mn11V1  0;0;2;114;470;624;491;451;415;666;1137;1449;55...\n",
              "...                  ...                                                ...\n",
              "3284   Mn25Cu20Fe4Co10V5  0;337;1624;1238;574;374;313;254;285;403;528;40...\n",
              "3285  Fe22Cu11Co13Mn12V6      0;0;181;1229;1313;1352;1475;713;130;7;0;0;0;0\n",
              "3286   Fe7Cu18V5Co22Mn12  0;0;20;666;1270;831;477;329;516;1091;1034;159;7;0\n",
              "3287   Fe18Cu13Co17Mn9V7     0;0;23;748;1505;1057;1248;1123;559;136;1;0;0;0\n",
              "3288   Cu25Fe18V11Co9Mn1      0;0;1;73;353;619;664;928;1488;1627;577;70;0;0\n",
              "\n",
              "[3289 rows x 2 columns]"
            ],
            "text/html": [
              "\n",
              "  <div id=\"df-6102d0a0-fba7-494f-b239-f1f7414bd32f\">\n",
              "    <div class=\"colab-df-container\">\n",
              "      <div>\n",
              "<style scoped>\n",
              "    .dataframe tbody tr th:only-of-type {\n",
              "        vertical-align: middle;\n",
              "    }\n",
              "\n",
              "    .dataframe tbody tr th {\n",
              "        vertical-align: top;\n",
              "    }\n",
              "\n",
              "    .dataframe thead th {\n",
              "        text-align: right;\n",
              "    }\n",
              "</style>\n",
              "<table border=\"1\" class=\"dataframe\">\n",
              "  <thead>\n",
              "    <tr style=\"text-align: right;\">\n",
              "      <th></th>\n",
              "      <th>prompt</th>\n",
              "      <th>completion</th>\n",
              "    </tr>\n",
              "  </thead>\n",
              "  <tbody>\n",
              "    <tr>\n",
              "      <th>0</th>\n",
              "      <td>Fe8Mn28Co24Cu1V3</td>\n",
              "      <td>0;20;1586;3796;978;20;0;0;0;0;0;0;0;0</td>\n",
              "    </tr>\n",
              "    <tr>\n",
              "      <th>1</th>\n",
              "      <td>V16Fe17Co24Mn6Cu1</td>\n",
              "      <td>0;1;369;2390;2599;986;55;0;0;0;0;0;0;0</td>\n",
              "    </tr>\n",
              "    <tr>\n",
              "      <th>2</th>\n",
              "      <td>V8Cu21Fe3Co23Mn9</td>\n",
              "      <td>0;0;8;364;1299;983;636;433;358;492;754;829;239;5</td>\n",
              "    </tr>\n",
              "    <tr>\n",
              "      <th>3</th>\n",
              "      <td>V9Co29Fe15Mn6Cu5</td>\n",
              "      <td>0;0;13;456;1807;2623;1284;207;10;0;0;0;0;0</td>\n",
              "    </tr>\n",
              "    <tr>\n",
              "      <th>4</th>\n",
              "      <td>Fe4Cu26Co22Mn11V1</td>\n",
              "      <td>0;0;2;114;470;624;491;451;415;666;1137;1449;55...</td>\n",
              "    </tr>\n",
              "    <tr>\n",
              "      <th>...</th>\n",
              "      <td>...</td>\n",
              "      <td>...</td>\n",
              "    </tr>\n",
              "    <tr>\n",
              "      <th>3284</th>\n",
              "      <td>Mn25Cu20Fe4Co10V5</td>\n",
              "      <td>0;337;1624;1238;574;374;313;254;285;403;528;40...</td>\n",
              "    </tr>\n",
              "    <tr>\n",
              "      <th>3285</th>\n",
              "      <td>Fe22Cu11Co13Mn12V6</td>\n",
              "      <td>0;0;181;1229;1313;1352;1475;713;130;7;0;0;0;0</td>\n",
              "    </tr>\n",
              "    <tr>\n",
              "      <th>3286</th>\n",
              "      <td>Fe7Cu18V5Co22Mn12</td>\n",
              "      <td>0;0;20;666;1270;831;477;329;516;1091;1034;159;7;0</td>\n",
              "    </tr>\n",
              "    <tr>\n",
              "      <th>3287</th>\n",
              "      <td>Fe18Cu13Co17Mn9V7</td>\n",
              "      <td>0;0;23;748;1505;1057;1248;1123;559;136;1;0;0;0</td>\n",
              "    </tr>\n",
              "    <tr>\n",
              "      <th>3288</th>\n",
              "      <td>Cu25Fe18V11Co9Mn1</td>\n",
              "      <td>0;0;1;73;353;619;664;928;1488;1627;577;70;0;0</td>\n",
              "    </tr>\n",
              "  </tbody>\n",
              "</table>\n",
              "<p>3289 rows × 2 columns</p>\n",
              "</div>\n",
              "      <button class=\"colab-df-convert\" onclick=\"convertToInteractive('df-6102d0a0-fba7-494f-b239-f1f7414bd32f')\"\n",
              "              title=\"Convert this dataframe to an interactive table.\"\n",
              "              style=\"display:none;\">\n",
              "        \n",
              "  <svg xmlns=\"http://www.w3.org/2000/svg\" height=\"24px\"viewBox=\"0 0 24 24\"\n",
              "       width=\"24px\">\n",
              "    <path d=\"M0 0h24v24H0V0z\" fill=\"none\"/>\n",
              "    <path d=\"M18.56 5.44l.94 2.06.94-2.06 2.06-.94-2.06-.94-.94-2.06-.94 2.06-2.06.94zm-11 1L8.5 8.5l.94-2.06 2.06-.94-2.06-.94L8.5 2.5l-.94 2.06-2.06.94zm10 10l.94 2.06.94-2.06 2.06-.94-2.06-.94-.94-2.06-.94 2.06-2.06.94z\"/><path d=\"M17.41 7.96l-1.37-1.37c-.4-.4-.92-.59-1.43-.59-.52 0-1.04.2-1.43.59L10.3 9.45l-7.72 7.72c-.78.78-.78 2.05 0 2.83L4 21.41c.39.39.9.59 1.41.59.51 0 1.02-.2 1.41-.59l7.78-7.78 2.81-2.81c.8-.78.8-2.07 0-2.86zM5.41 20L4 18.59l7.72-7.72 1.47 1.35L5.41 20z\"/>\n",
              "  </svg>\n",
              "      </button>\n",
              "      \n",
              "  <style>\n",
              "    .colab-df-container {\n",
              "      display:flex;\n",
              "      flex-wrap:wrap;\n",
              "      gap: 12px;\n",
              "    }\n",
              "\n",
              "    .colab-df-convert {\n",
              "      background-color: #E8F0FE;\n",
              "      border: none;\n",
              "      border-radius: 50%;\n",
              "      cursor: pointer;\n",
              "      display: none;\n",
              "      fill: #1967D2;\n",
              "      height: 32px;\n",
              "      padding: 0 0 0 0;\n",
              "      width: 32px;\n",
              "    }\n",
              "\n",
              "    .colab-df-convert:hover {\n",
              "      background-color: #E2EBFA;\n",
              "      box-shadow: 0px 1px 2px rgba(60, 64, 67, 0.3), 0px 1px 3px 1px rgba(60, 64, 67, 0.15);\n",
              "      fill: #174EA6;\n",
              "    }\n",
              "\n",
              "    [theme=dark] .colab-df-convert {\n",
              "      background-color: #3B4455;\n",
              "      fill: #D2E3FC;\n",
              "    }\n",
              "\n",
              "    [theme=dark] .colab-df-convert:hover {\n",
              "      background-color: #434B5C;\n",
              "      box-shadow: 0px 1px 3px 1px rgba(0, 0, 0, 0.15);\n",
              "      filter: drop-shadow(0px 1px 2px rgba(0, 0, 0, 0.3));\n",
              "      fill: #FFFFFF;\n",
              "    }\n",
              "  </style>\n",
              "\n",
              "      <script>\n",
              "        const buttonEl =\n",
              "          document.querySelector('#df-6102d0a0-fba7-494f-b239-f1f7414bd32f button.colab-df-convert');\n",
              "        buttonEl.style.display =\n",
              "          google.colab.kernel.accessAllowed ? 'block' : 'none';\n",
              "\n",
              "        async function convertToInteractive(key) {\n",
              "          const element = document.querySelector('#df-6102d0a0-fba7-494f-b239-f1f7414bd32f');\n",
              "          const dataTable =\n",
              "            await google.colab.kernel.invokeFunction('convertToInteractive',\n",
              "                                                     [key], {});\n",
              "          if (!dataTable) return;\n",
              "\n",
              "          const docLinkHtml = 'Like what you see? Visit the ' +\n",
              "            '<a target=\"_blank\" href=https://colab.research.google.com/notebooks/data_table.ipynb>data table notebook</a>'\n",
              "            + ' to learn more about interactive tables.';\n",
              "          element.innerHTML = '';\n",
              "          dataTable['output_type'] = 'display_data';\n",
              "          await google.colab.output.renderOutput(dataTable, element);\n",
              "          const docLink = document.createElement('div');\n",
              "          docLink.innerHTML = docLinkHtml;\n",
              "          element.appendChild(docLink);\n",
              "        }\n",
              "      </script>\n",
              "    </div>\n",
              "  </div>\n",
              "  "
            ]
          },
          "metadata": {},
          "execution_count": 51
        }
      ]
    },
    {
      "cell_type": "code",
      "source": [
        "final.to_csv('prompt_completion_e_OH_1.csv', index=False)"
      ],
      "metadata": {
        "id": "x5vjCZM-a0kl"
      },
      "execution_count": null,
      "outputs": []
    },
    {
      "cell_type": "code",
      "source": [
        "print(final.iloc[1])"
      ],
      "metadata": {
        "colab": {
          "base_uri": "https://localhost:8080/"
        },
        "id": "p756uyUfxVTM",
        "outputId": "1213af89-98a3-444b-8258-8bada929a992"
      },
      "execution_count": null,
      "outputs": [
        {
          "output_type": "stream",
          "name": "stdout",
          "text": [
            "prompt                                        V16Fe17Co24Mn6Cu1\n",
            "completion    (-75, -70): 0; (-70, -65): 1; (-65, -60): 369;...\n",
            "Name: 1, dtype: object\n"
          ]
        }
      ]
    },
    {
      "cell_type": "code",
      "source": [
        "row_sums = sum(df.apply(lambda row: row[1:][row[1:].apply(lambda x: isinstance(x, int))].sum(), axis=1))/3289\n",
        "row_sums"
      ],
      "metadata": {
        "colab": {
          "base_uri": "https://localhost:8080/"
        },
        "id": "BuQi1l1wgVQC",
        "outputId": "7fe5277e-780d-405c-c854-71de7c1f19fe"
      },
      "execution_count": null,
      "outputs": [
        {
          "output_type": "execute_result",
          "data": {
            "text/plain": [
              "6400.0"
            ]
          },
          "metadata": {},
          "execution_count": 17
        }
      ]
    },
    {
      "cell_type": "code",
      "source": [
        "df.to_csv('final_e_OH_1.csv', index=False)"
      ],
      "metadata": {
        "id": "HYDrP3irfK4H"
      },
      "execution_count": null,
      "outputs": []
    },
    {
      "cell_type": "code",
      "source": [
        "final"
      ],
      "metadata": {
        "colab": {
          "base_uri": "https://localhost:8080/",
          "height": 424
        },
        "id": "j7IR3TG0dgLg",
        "outputId": "f6c70168-d2a1-40c6-a5e0-be1513712289"
      },
      "execution_count": null,
      "outputs": [
        {
          "output_type": "execute_result",
          "data": {
            "text/plain": [
              "                  prompt                                         completion\n",
              "0       Fe8Mn28Co24Cu1V3  (-75, -70): 0; (-70, -65): 20; (-65, -60): 158...\n",
              "1      V16Fe17Co24Mn6Cu1  (-75, -70): 0; (-70, -65): 1; (-65, -60): 369;...\n",
              "2       V8Cu21Fe3Co23Mn9  (-75, -70): 0; (-70, -65): 0; (-65, -60): 8; (...\n",
              "3       V9Co29Fe15Mn6Cu5  (-75, -70): 0; (-70, -65): 0; (-65, -60): 13; ...\n",
              "4      Fe4Cu26Co22Mn11V1  (-75, -70): 0; (-70, -65): 0; (-65, -60): 2; (...\n",
              "...                  ...                                                ...\n",
              "3284   Mn25Cu20Fe4Co10V5  (-75, -70): 0; (-70, -65): 337; (-65, -60): 16...\n",
              "3285  Fe22Cu11Co13Mn12V6  (-75, -70): 0; (-70, -65): 0; (-65, -60): 181;...\n",
              "3286   Fe7Cu18V5Co22Mn12  (-75, -70): 0; (-70, -65): 0; (-65, -60): 20; ...\n",
              "3287   Fe18Cu13Co17Mn9V7  (-75, -70): 0; (-70, -65): 0; (-65, -60): 23; ...\n",
              "3288   Cu25Fe18V11Co9Mn1  (-75, -70): 0; (-70, -65): 0; (-65, -60): 1; (...\n",
              "\n",
              "[3289 rows x 2 columns]"
            ],
            "text/html": [
              "\n",
              "  <div id=\"df-0d706e1c-6ed3-4772-95cb-47c4a946820d\">\n",
              "    <div class=\"colab-df-container\">\n",
              "      <div>\n",
              "<style scoped>\n",
              "    .dataframe tbody tr th:only-of-type {\n",
              "        vertical-align: middle;\n",
              "    }\n",
              "\n",
              "    .dataframe tbody tr th {\n",
              "        vertical-align: top;\n",
              "    }\n",
              "\n",
              "    .dataframe thead th {\n",
              "        text-align: right;\n",
              "    }\n",
              "</style>\n",
              "<table border=\"1\" class=\"dataframe\">\n",
              "  <thead>\n",
              "    <tr style=\"text-align: right;\">\n",
              "      <th></th>\n",
              "      <th>prompt</th>\n",
              "      <th>completion</th>\n",
              "    </tr>\n",
              "  </thead>\n",
              "  <tbody>\n",
              "    <tr>\n",
              "      <th>0</th>\n",
              "      <td>Fe8Mn28Co24Cu1V3</td>\n",
              "      <td>(-75, -70): 0; (-70, -65): 20; (-65, -60): 158...</td>\n",
              "    </tr>\n",
              "    <tr>\n",
              "      <th>1</th>\n",
              "      <td>V16Fe17Co24Mn6Cu1</td>\n",
              "      <td>(-75, -70): 0; (-70, -65): 1; (-65, -60): 369;...</td>\n",
              "    </tr>\n",
              "    <tr>\n",
              "      <th>2</th>\n",
              "      <td>V8Cu21Fe3Co23Mn9</td>\n",
              "      <td>(-75, -70): 0; (-70, -65): 0; (-65, -60): 8; (...</td>\n",
              "    </tr>\n",
              "    <tr>\n",
              "      <th>3</th>\n",
              "      <td>V9Co29Fe15Mn6Cu5</td>\n",
              "      <td>(-75, -70): 0; (-70, -65): 0; (-65, -60): 13; ...</td>\n",
              "    </tr>\n",
              "    <tr>\n",
              "      <th>4</th>\n",
              "      <td>Fe4Cu26Co22Mn11V1</td>\n",
              "      <td>(-75, -70): 0; (-70, -65): 0; (-65, -60): 2; (...</td>\n",
              "    </tr>\n",
              "    <tr>\n",
              "      <th>...</th>\n",
              "      <td>...</td>\n",
              "      <td>...</td>\n",
              "    </tr>\n",
              "    <tr>\n",
              "      <th>3284</th>\n",
              "      <td>Mn25Cu20Fe4Co10V5</td>\n",
              "      <td>(-75, -70): 0; (-70, -65): 337; (-65, -60): 16...</td>\n",
              "    </tr>\n",
              "    <tr>\n",
              "      <th>3285</th>\n",
              "      <td>Fe22Cu11Co13Mn12V6</td>\n",
              "      <td>(-75, -70): 0; (-70, -65): 0; (-65, -60): 181;...</td>\n",
              "    </tr>\n",
              "    <tr>\n",
              "      <th>3286</th>\n",
              "      <td>Fe7Cu18V5Co22Mn12</td>\n",
              "      <td>(-75, -70): 0; (-70, -65): 0; (-65, -60): 20; ...</td>\n",
              "    </tr>\n",
              "    <tr>\n",
              "      <th>3287</th>\n",
              "      <td>Fe18Cu13Co17Mn9V7</td>\n",
              "      <td>(-75, -70): 0; (-70, -65): 0; (-65, -60): 23; ...</td>\n",
              "    </tr>\n",
              "    <tr>\n",
              "      <th>3288</th>\n",
              "      <td>Cu25Fe18V11Co9Mn1</td>\n",
              "      <td>(-75, -70): 0; (-70, -65): 0; (-65, -60): 1; (...</td>\n",
              "    </tr>\n",
              "  </tbody>\n",
              "</table>\n",
              "<p>3289 rows × 2 columns</p>\n",
              "</div>\n",
              "      <button class=\"colab-df-convert\" onclick=\"convertToInteractive('df-0d706e1c-6ed3-4772-95cb-47c4a946820d')\"\n",
              "              title=\"Convert this dataframe to an interactive table.\"\n",
              "              style=\"display:none;\">\n",
              "        \n",
              "  <svg xmlns=\"http://www.w3.org/2000/svg\" height=\"24px\"viewBox=\"0 0 24 24\"\n",
              "       width=\"24px\">\n",
              "    <path d=\"M0 0h24v24H0V0z\" fill=\"none\"/>\n",
              "    <path d=\"M18.56 5.44l.94 2.06.94-2.06 2.06-.94-2.06-.94-.94-2.06-.94 2.06-2.06.94zm-11 1L8.5 8.5l.94-2.06 2.06-.94-2.06-.94L8.5 2.5l-.94 2.06-2.06.94zm10 10l.94 2.06.94-2.06 2.06-.94-2.06-.94-.94-2.06-.94 2.06-2.06.94z\"/><path d=\"M17.41 7.96l-1.37-1.37c-.4-.4-.92-.59-1.43-.59-.52 0-1.04.2-1.43.59L10.3 9.45l-7.72 7.72c-.78.78-.78 2.05 0 2.83L4 21.41c.39.39.9.59 1.41.59.51 0 1.02-.2 1.41-.59l7.78-7.78 2.81-2.81c.8-.78.8-2.07 0-2.86zM5.41 20L4 18.59l7.72-7.72 1.47 1.35L5.41 20z\"/>\n",
              "  </svg>\n",
              "      </button>\n",
              "      \n",
              "  <style>\n",
              "    .colab-df-container {\n",
              "      display:flex;\n",
              "      flex-wrap:wrap;\n",
              "      gap: 12px;\n",
              "    }\n",
              "\n",
              "    .colab-df-convert {\n",
              "      background-color: #E8F0FE;\n",
              "      border: none;\n",
              "      border-radius: 50%;\n",
              "      cursor: pointer;\n",
              "      display: none;\n",
              "      fill: #1967D2;\n",
              "      height: 32px;\n",
              "      padding: 0 0 0 0;\n",
              "      width: 32px;\n",
              "    }\n",
              "\n",
              "    .colab-df-convert:hover {\n",
              "      background-color: #E2EBFA;\n",
              "      box-shadow: 0px 1px 2px rgba(60, 64, 67, 0.3), 0px 1px 3px 1px rgba(60, 64, 67, 0.15);\n",
              "      fill: #174EA6;\n",
              "    }\n",
              "\n",
              "    [theme=dark] .colab-df-convert {\n",
              "      background-color: #3B4455;\n",
              "      fill: #D2E3FC;\n",
              "    }\n",
              "\n",
              "    [theme=dark] .colab-df-convert:hover {\n",
              "      background-color: #434B5C;\n",
              "      box-shadow: 0px 1px 3px 1px rgba(0, 0, 0, 0.15);\n",
              "      filter: drop-shadow(0px 1px 2px rgba(0, 0, 0, 0.3));\n",
              "      fill: #FFFFFF;\n",
              "    }\n",
              "  </style>\n",
              "\n",
              "      <script>\n",
              "        const buttonEl =\n",
              "          document.querySelector('#df-0d706e1c-6ed3-4772-95cb-47c4a946820d button.colab-df-convert');\n",
              "        buttonEl.style.display =\n",
              "          google.colab.kernel.accessAllowed ? 'block' : 'none';\n",
              "\n",
              "        async function convertToInteractive(key) {\n",
              "          const element = document.querySelector('#df-0d706e1c-6ed3-4772-95cb-47c4a946820d');\n",
              "          const dataTable =\n",
              "            await google.colab.kernel.invokeFunction('convertToInteractive',\n",
              "                                                     [key], {});\n",
              "          if (!dataTable) return;\n",
              "\n",
              "          const docLinkHtml = 'Like what you see? Visit the ' +\n",
              "            '<a target=\"_blank\" href=https://colab.research.google.com/notebooks/data_table.ipynb>data table notebook</a>'\n",
              "            + ' to learn more about interactive tables.';\n",
              "          element.innerHTML = '';\n",
              "          dataTable['output_type'] = 'display_data';\n",
              "          await google.colab.output.renderOutput(dataTable, element);\n",
              "          const docLink = document.createElement('div');\n",
              "          docLink.innerHTML = docLinkHtml;\n",
              "          element.appendChild(docLink);\n",
              "        }\n",
              "      </script>\n",
              "    </div>\n",
              "  </div>\n",
              "  "
            ]
          },
          "metadata": {},
          "execution_count": 44
        }
      ]
    },
    {
      "cell_type": "code",
      "source": [
        "df = df.drop('completion', axis=1)"
      ],
      "metadata": {
        "id": "yGinJZ3qeG8M"
      },
      "execution_count": null,
      "outputs": []
    },
    {
      "cell_type": "code",
      "source": [
        "final[0:650].to_json('train.jsonl', orient='records', lines=True, force_ascii=False)\n",
        "final[651:].to_json('valid.jsonl', orient='records', lines=True, force_ascii=False)"
      ],
      "metadata": {
        "id": "pai8Vzs7nDjB"
      },
      "execution_count": null,
      "outputs": []
    },
    {
      "cell_type": "code",
      "source": [
        "!openai tools fine_tunes.prepare_data -f valid.jsonl"
      ],
      "metadata": {
        "id": "SI6GRJ0AnM5Z"
      },
      "execution_count": null,
      "outputs": []
    },
    {
      "cell_type": "code",
      "source": [
        "!cat '/content/valid_prepared.jsonl'"
      ],
      "metadata": {
        "id": "XZj6w6kxoSvY"
      },
      "execution_count": null,
      "outputs": []
    },
    {
      "cell_type": "code",
      "source": [
        "%env OPENAI_API_KEY=\"\""
      ],
      "metadata": {
        "colab": {
          "base_uri": "https://localhost:8080/"
        },
        "id": "5rwTb449rDvs",
        "outputId": "61fd7e38-91ac-4dea-e560-41be3980fde8"
      },
      "execution_count": 2,
      "outputs": [
        {
          "output_type": "stream",
          "name": "stdout",
          "text": [
            "env: OPENAI_API_KEY=\"\"\n"
          ]
        }
      ]
    },
    {
      "cell_type": "code",
      "source": [
        "!openai api fine_tunes.create -t \"train_prepared.jsonl\" -v \"valid_prepared.jsonl\" --compute_classification_metrics -m ada"
      ],
      "metadata": {
        "colab": {
          "base_uri": "https://localhost:8080/"
        },
        "id": "F_H_8JmsrGP5",
        "outputId": "20aab34a-7cb1-4315-8db0-ea5e68059be3"
      },
      "execution_count": null,
      "outputs": [
        {
          "output_type": "stream",
          "name": "stdout",
          "text": [
            "Found potentially duplicated files with name 'train_prepared.jsonl', purpose 'fine-tune' and size 60342 bytes\n",
            "file-0P9zb3BnqTpU2cbWzqD2dvOH\n",
            "file-mnGnk37w94hsBQU5mgDJdbVX\n",
            "Enter file ID to reuse an already uploaded file, or an empty string to upload this file anyway: \n",
            "Upload progress: 100% 60.3k/60.3k [00:00<00:00, 59.3Mit/s]\n",
            "Uploaded file from train_prepared.jsonl: file-FkH3wrI5WYOSWZJrwwJrUskh\n",
            "Found potentially duplicated files with name 'valid_prepared.jsonl', purpose 'fine-tune' and size 248364 bytes\n",
            "file-ypg4kK0GWq8OQqBlL21weYHC\n",
            "file-3zDmb1LmDgqE1uOO4Sc5tiu2\n",
            "Enter file ID to reuse an already uploaded file, or an empty string to upload this file anyway: \n",
            "Upload progress: 100% 248k/248k [00:00<00:00, 273Mit/s]\n",
            "Uploaded file from valid_prepared.jsonl: file-Z5SD3Cd2pGLtUF0OgyDarzkt\n",
            "\u001b[91mError:\u001b[0m When using \"classification\" as the extra_eval_type, you must specify either classification_n_classes (for multiclass classification) or classification_positive_class (for binary classification). (HTTP status code: 400)\n"
          ]
        }
      ]
    },
    {
      "cell_type": "code",
      "source": [
        "!openai api fine_tunes.follow -i ft-CMlU4HOZc57oy7OmVEt5Ss5l"
      ],
      "metadata": {
        "colab": {
          "base_uri": "https://localhost:8080/"
        },
        "id": "eUPJe6pTr51r",
        "outputId": "0ee7b194-7806-4970-fbf6-5d602a0452bd"
      },
      "execution_count": null,
      "outputs": [
        {
          "output_type": "stream",
          "name": "stdout",
          "text": [
            "[2023-06-10 14:21:35] Created fine-tune: ft-CMlU4HOZc57oy7OmVEt5Ss5l\n",
            "[2023-06-10 14:22:37] Fine-tune costs $0.04\n",
            "[2023-06-10 14:22:38] Fine-tune enqueued. Queue number: 0\n",
            "[2023-06-10 14:22:39] Fine-tune started\n",
            "[2023-06-10 14:24:35] Completed epoch 1/4\n",
            "[2023-06-10 14:26:16] Completed epoch 2/4\n",
            "[2023-06-10 14:27:57] Completed epoch 3/4\n",
            "[2023-06-10 14:29:37] Completed epoch 4/4\n",
            "[2023-06-10 14:29:55] Uploaded model: ada:ft-birmingham-digital-chemistry-2023-06-10-14-29-55\n",
            "[2023-06-10 14:29:56] Uploaded result file: file-yq4UrEJAzKO4sOzmdopDG779\n",
            "[2023-06-10 14:29:56] Fine-tune succeeded\n",
            "\n",
            "Job complete! Status: succeeded 🎉\n",
            "Try out your fine-tuned model:\n",
            "\n",
            "openai api completions.create -m ada:ft-birmingham-digital-chemistry-2023-06-10-14-29-55 -p <YOUR_PROMPT>\n"
          ]
        }
      ]
    },
    {
      "cell_type": "code",
      "source": [
        "!openai api fine_tunes.results -i ft-CMlU4HOZc57oy7OmVEt5Ss5l > results.csv\n",
        "# results = pd.read_csv('result.csv')\n",
        "# results[results['classification/accuracy'].notnull()].tail(1)"
      ],
      "metadata": {
        "id": "Q-Q7dOQNsOd2"
      },
      "execution_count": null,
      "outputs": []
    },
    {
      "cell_type": "code",
      "source": [
        "import openai\n",
        "openai.api_key = ''\n",
        "\n",
        "p = f'Fe3Cu19V30Mn11Co1'\n",
        "\n",
        "# generate the response\n",
        "response = openai.Completion.create(\n",
        "      engine=\"ada:ft-birmingham-digital-chemistry-2023-06-10-14-29-55\",\n",
        "      prompt=p,\n",
        "      temperature=0,\n",
        "      max_tokens=100,\n",
        "      stop=[\"\\n\"]\n",
        "    )\n",
        "\n",
        "# grab our text from the repsonse\n",
        "text = response['choices'][0]['text']\n",
        "\n",
        "\n",
        "print(text+'\\n')"
      ],
      "metadata": {
        "colab": {
          "base_uri": "https://localhost:8080/"
        },
        "id": "qepVn5ChsVPi",
        "outputId": "1d55123c-5877-4f08-e988-88b35eb6f7f3"
      },
      "execution_count": null,
      "outputs": [
        {
          "output_type": "stream",
          "name": "stdout",
          "text": [
            " 0;119;1274;1089;746;534;456;534;534;408;120;1;0;0\n",
            "\n"
          ]
        }
      ]
    },
    {
      "cell_type": "code",
      "source": [],
      "metadata": {
        "id": "Qo6MkyMHvFR5"
      },
      "execution_count": 2,
      "outputs": []
    }
  ]
}